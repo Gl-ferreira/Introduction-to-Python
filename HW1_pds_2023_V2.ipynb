{
 "cells": [
  {
   "cell_type": "markdown",
   "metadata": {},
   "source": [
    "# <span style=\"color:brown\"> Start Here </span> \n",
    "\n",
    "[Please Complete the following form with your details]\n",
    "\n",
    "Student Name - Peter Falterbaum <br>\n",
    "Student id - 20230956 <br>\n",
    "Contact e-mail - 20230956@novaims.unl.pt <br>\n",
    "\n",
    "\n",
    "Student Name - Goncalo Ferreira <br>\n",
    "Student id - 20230492 <br>\n",
    "Contact e-mail - 20230492@novaims.unl.pt <br>"
   ]
  },
  {
   "cell_type": "markdown",
   "metadata": {},
   "source": [
    "# <span style=\"color:brown\"> Part 1 -  Variable Declaration and Manipulation </span> \n",
    "\n",
    "## Exercise I - of Lists and Random numbers\n",
    "\n",
    "**1**: Declare a variable X that stores a list of 100 integers randomly sampled between -100 and 100.<br>\n",
    "Note: You are not allowed to use third party libraries -- such as Numpy, Pandas, or Scipy -- in this exercise."
   ]
  },
  {
   "cell_type": "code",
   "execution_count": 1,
   "metadata": {},
   "outputs": [],
   "source": [
    "import random \n",
    "\n",
    "#random.randint(-100,100) gives us random  numbers between -100 and 100. For i in range(100), selects 100 numbers from this interval\n",
    "X = list(random.randint(-100,100) for i in range(100))"
   ]
  },
  {
   "cell_type": "markdown",
   "metadata": {},
   "source": [
    "**2**: How many odd numbers are in the list X?\n"
   ]
  },
  {
   "cell_type": "code",
   "execution_count": 2,
   "metadata": {},
   "outputs": [
    {
     "name": "stdout",
     "output_type": "stream",
     "text": [
      "53\n"
     ]
    }
   ],
   "source": [
    "oddCount = 0\n",
    "\n",
    "# looping through all the elements of X and increasing the counter for each odd element.\n",
    "for item in X:\n",
    "    if item%2 == 1:\n",
    "        oddCount += 1\n",
    "print(oddCount)"
   ]
  },
  {
   "cell_type": "markdown",
   "metadata": {},
   "source": [
    "**2.1** Check if there are as many even numbers as there are odd numbers, else discard the list and generate a new one."
   ]
  },
  {
   "cell_type": "code",
   "execution_count": 3,
   "metadata": {},
   "outputs": [
    {
     "name": "stdout",
     "output_type": "stream",
     "text": [
      "New list has been generated\n"
     ]
    }
   ],
   "source": [
    "odd_numbers=0\n",
    "even_numbers=0\n",
    "\n",
    "#this defines odd number variable and even number variable\n",
    "for number in X: #here we define X as a number in the list X.\n",
    "    if number%2==1:\n",
    "        odd_numbers+=1 #if the number is odd, it wil increase by one on the variable\n",
    "    else:\n",
    "        even_numbers+=1  #if the number is even, it will increasy by one on the variable.\n",
    "if odd_numbers==even_numbers:\n",
    "    print(\"Even numbers and Odd numbers are the same:\" +str(even_numbers)) #after the for loop iteration, this will tell us if even numbers = odd numbers. If this is true, it will say what is the number.\n",
    "         \n",
    "else:\n",
    "    X  = list(random.randint(-100,100) for i in range(100))  #if even numbers and odd numbers are unequal, generate new X list. And to be notified, print \"New list has been generated\"\n",
    "    print(\"New list has been generated\")"
   ]
  },
  {
   "cell_type": "markdown",
   "metadata": {},
   "source": [
    "**2.2** Create a pipeline to automatically perform the tasks above such that you avoid having to run the cells multiple times to reach the desired outcome."
   ]
  },
  {
   "cell_type": "code",
   "execution_count": 4,
   "metadata": {},
   "outputs": [
    {
     "name": "stdout",
     "output_type": "stream",
     "text": [
      "[57, 23, 74, 1, -70, 36, -90, -8, 39, 85, -88, -27, -93, -63, -7, 72, 80, 62, 100, -74, -67, -30, -78, 41, 69, -6, -97, 47, -22, 95, -99, 76, -68, -55, 98, 53, 84, 33, -16, 99, 37, 27, -23, -85, -42, 56, 23, 41, 16, 98, -82, -19, -85, -87, -24, -60, 11, -90, -66, 73, 82, 38, -100, 29, -95, -28, 3, 16, 23, -58, 4, 80, 38, 49, -80, 10, 89, 61, -51, 45, 29, 20, 29, 89, -19, 24, -43, -81, -39, -18, -56, -98, -21, -7, 93, -40, 98, 30, 96, 46]\n",
      "50\n"
     ]
    }
   ],
   "source": [
    "oddCount = 0\n",
    "evenCount = 0\n",
    "\n",
    "# looping as long as at least one of two conditions is true: counts of odd and even elements is not equal; counter of both, odd and even, are set to zero. while condition combination true, the following will happen:\n",
    "# firstly, creating an empty list X and resetting the counters to zero.\n",
    "# secondly, filling list X with 100 random integers between -100 and 100.\n",
    "# thirdly, counting even and odd elements by increasing the counters acoordingly.\n",
    "while (oddCount != evenCount) or ((oddCount == 0) and (evenCount == 0)):\n",
    "    X = []\n",
    "    oddCount = 0\n",
    "    evenCount = 0\n",
    "    for counter in range(100):\n",
    "        randomNumber = random.randint(-100, 100)\n",
    "        X.append(randomNumber)\n",
    "        \n",
    "        if randomNumber % 2 != 0:\n",
    "            oddCount += 1\n",
    "        else:\n",
    "            evenCount += 1\n",
    "\n",
    "# printing X and the count of odd elements to validate the functionality.\n",
    "print(X)\n",
    "\n",
    "print(oddCount)"
   ]
  },
  {
   "cell_type": "markdown",
   "metadata": {},
   "source": [
    "**3**: Print the number of digits that the 5th and 100th element of the list have. <br>\n",
    "*Note: For instance, the number 1 contains one digit, the number 10 contains two digits, the number -2 contains one digit.*"
   ]
  },
  {
   "cell_type": "code",
   "execution_count": 5,
   "metadata": {},
   "outputs": [
    {
     "name": "stdout",
     "output_type": "stream",
     "text": [
      "2\n",
      "2\n"
     ]
    }
   ],
   "source": [
    "# function receiving one variable, which will be used as elementCounter (= index + 1) for the list of X. Typecasting the value, which we know is an integer, to str to check if its a negative value or not.\n",
    "# If string value has a \"-\" as first string element, the function will return the length of the string minus one. Otherwise the length of the string value will be returned.\n",
    "def countDigits (targetElement):\n",
    "    strNumber = str(X[targetElement-1])\n",
    "    if strNumber[0] == \"-\":\n",
    "        return len(strNumber)-1\n",
    "    else:\n",
    "        return len(strNumber)\n",
    "\n",
    "# printing the requested elements of the list X.\n",
    "print(countDigits(5))\n",
    "print(countDigits(100))"
   ]
  },
  {
   "cell_type": "markdown",
   "metadata": {},
   "source": [
    "**4**: Is the sum total of all the numbers in the list even or odd?"
   ]
  },
  {
   "cell_type": "code",
   "execution_count": 6,
   "metadata": {},
   "outputs": [
    {
     "name": "stdout",
     "output_type": "stream",
     "text": [
      "Even sum!\n",
      "272\n"
     ]
    }
   ],
   "source": [
    "# setting sum variable to zero.\n",
    "totalSum = 0\n",
    "\n",
    "# looping through all elements of X and adding their value to \"sum\".\n",
    "for item in X:\n",
    "    totalSum += item\n",
    "\n",
    "# checking if \"sum\" is even or odd and printing the result of this check.\n",
    "if totalSum%2 == 0:\n",
    "    print(\"Even sum!\\n\" + str(totalSum))\n",
    "else:\n",
    "    print(\"Odd sum!\\n\" + str(totalSum))"
   ]
  },
  {
   "cell_type": "markdown",
   "metadata": {},
   "source": [
    "**5**: What is the average of the list X?"
   ]
  },
  {
   "cell_type": "code",
   "execution_count": 7,
   "metadata": {},
   "outputs": [
    {
     "name": "stdout",
     "output_type": "stream",
     "text": [
      "2.72\n"
     ]
    }
   ],
   "source": [
    "# average is calculated by dividing the sum of all elements by total amount of elements.\n",
    "average = totalSum/len(X)\n",
    "print(average)"
   ]
  },
  {
   "cell_type": "markdown",
   "metadata": {},
   "source": [
    "**5.1.** What is the population standard deviation? <br>"
   ]
  },
  {
   "cell_type": "code",
   "execution_count": 8,
   "metadata": {},
   "outputs": [
    {
     "name": "stdout",
     "output_type": "stream",
     "text": [
      "61.63458120243863\n"
     ]
    }
   ],
   "source": [
    "# using the math library to calculate the square root.\n",
    "import math\n",
    "\n",
    "distanceSum = 0\n",
    "\n",
    "# looping through all elements of X and adding the variance to the distanceSum variable.\n",
    "for item in X:\n",
    "    distanceSum += (item - average)**2\n",
    "\n",
    "# calculating the square root of the distanceSum to print the standard deviation\n",
    "stDev = (distanceSum/len(X))**0.5\n",
    "print(stDev)"
   ]
  },
  {
   "cell_type": "markdown",
   "metadata": {},
   "source": [
    "**6**: Sort list X in descending order and store the result in variable Xsort. <br>"
   ]
  },
  {
   "cell_type": "code",
   "execution_count": 9,
   "metadata": {},
   "outputs": [
    {
     "name": "stdout",
     "output_type": "stream",
     "text": [
      "[100, 99, 98, 98, 98, 96, 95, 93, 89, 89, 85, 84, 82, 80, 80, 76, 74, 73, 72, 69, 62, 61, 57, 56, 53, 49, 47, 46, 45, 41, 41, 39, 38, 38, 37, 36, 33, 30, 29, 29, 29, 27, 24, 23, 23, 23, 20, 16, 16, 11, 10, 4, 3, 1, -6, -7, -7, -8, -16, -18, -19, -19, -21, -22, -23, -24, -27, -28, -30, -39, -40, -42, -43, -51, -55, -56, -58, -60, -63, -66, -67, -68, -70, -74, -78, -80, -81, -82, -85, -85, -87, -88, -90, -90, -93, -95, -97, -98, -99, -100]\n"
     ]
    }
   ],
   "source": [
    "Xsort = sorted(X, reverse=True)\n",
    "print(Xsort)"
   ]
  },
  {
   "cell_type": "markdown",
   "metadata": {},
   "source": [
    "**6.1** Then replace each value in Xsort with index i as the sum of the values with index i-1 and i. <br> \n",
    "\n",
    "*Note: Consider that Xsort[-1] = 0.*"
   ]
  },
  {
   "cell_type": "code",
   "execution_count": 10,
   "metadata": {},
   "outputs": [
    {
     "name": "stdout",
     "output_type": "stream",
     "text": [
      "[100, 199, 297, 395, 493, 589, 684, 777, 866, 955, 1040, 1124, 1206, 1286, 1366, 1442, 1516, 1589, 1661, 1730, 1792, 1853, 1910, 1966, 2019, 2068, 2115, 2161, 2206, 2247, 2288, 2327, 2365, 2403, 2440, 2476, 2509, 2539, 2568, 2597, 2626, 2653, 2677, 2700, 2723, 2746, 2766, 2782, 2798, 2809, 2819, 2823, 2826, 2827, 2821, 2814, 2807, 2799, 2783, 2765, 2746, 2727, 2706, 2684, 2661, 2637, 2610, 2582, 2552, 2513, 2473, 2431, 2388, 2337, 2282, 2226, 2168, 2108, 2045, 1979, 1912, 1844, 1774, 1700, 1622, 1542, 1461, 1379, 1294, 1209, 1122, 1034, 944, 854, 761, 666, 569, 471, 372, 272]\n"
     ]
    }
   ],
   "source": [
    "for counter in range(len(Xsort)):\n",
    "    if counter == 0:\n",
    "        Xsort[counter] = Xsort[counter]\n",
    "    else:\n",
    "        Xsort[counter] = Xsort[counter-1] + Xsort[counter]\n",
    "print(Xsort)"
   ]
  },
  {
   "cell_type": "markdown",
   "metadata": {},
   "source": [
    "## Exercise II - we have a gamer in the room\n",
    "\n",
    "**7**: Consider the dictionaries  *purchases* and *clients* that are declared in the cell below. <br>\n",
    "Create a list with the names of the clients who bought more than one videogame. Print the List. <br>"
   ]
  },
  {
   "cell_type": "code",
   "execution_count": 11,
   "metadata": {},
   "outputs": [],
   "source": [
    "purchases = {\n",
    "    \n",
    "    \"1539\":\"Red dead redemption II\",\n",
    "    \"9843\":\"GTA V,FarCry 5, watchdogs II\",\n",
    "    \"8472\":\"Canis Canem Edit\",\n",
    "    \"3874\":\"Watchdogs II,South Park: The Stick of Truth\",\n",
    "    \"5783\":\"AC: The Ezio Collection, watchdogs ii\",\n",
    "    \"9823\":\"For Honor,The Forest,South Park: The Fractured but whole\"\n",
    "    \n",
    "}"
   ]
  },
  {
   "cell_type": "code",
   "execution_count": 12,
   "metadata": {},
   "outputs": [],
   "source": [
    "clients = {\n",
    "    \n",
    "    \"1539\":\"Rick Sanchez\",\n",
    "    \"9843\":\"Morty Smith\",\n",
    "    \"8472\":\"Eve Polastri\",\n",
    "    \"3874\":\"Mildred Ratched\",\n",
    "    \"5783\":\"Alex Vause\",\n",
    "    \"9823\":\"Sheldon Cooper\"\n",
    "    \n",
    "}"
   ]
  },
  {
   "cell_type": "code",
   "execution_count": 13,
   "metadata": {},
   "outputs": [
    {
     "name": "stdout",
     "output_type": "stream",
     "text": [
      "['Morty Smith', 'Mildred Ratched', 'Alex Vause', 'Sheldon Cooper']\n"
     ]
    }
   ],
   "source": [
    "clientsGreater1 = []\n",
    "for key in clients.keys():\n",
    "    listOfGames = purchases[key].split(',')\n",
    "    if len(listOfGames) > 1:\n",
    "        clientsGreater1.append(clients[key])\n",
    "\n",
    "print(clientsGreater1)"
   ]
  },
  {
   "cell_type": "markdown",
   "metadata": {},
   "source": [
    "**7.1** What is the name of the client that bought more videogames?\n",
    "\n",
    "*Tip: You will want to check the methods associated with string manipulation. See the link: <br>\n",
    "https://python-reference.readthedocs.io/en/latest/docs/unicode/index.html*"
   ]
  },
  {
   "cell_type": "code",
   "execution_count": 14,
   "metadata": {},
   "outputs": [
    {
     "name": "stdout",
     "output_type": "stream",
     "text": [
      "Morty Smith\n"
     ]
    }
   ],
   "source": [
    "# this implementation checks only if the number of games is higher than the amount of games of other players. Therefore only one player is returned even though two players bought 3 games. \n",
    "clientMostGames = \"\"\n",
    "countOfGames = 0\n",
    "for key in clients.keys():\n",
    "    listOfGames = purchases[key].split(',')\n",
    "    if (len(clientMostGames) == 0) or (len(listOfGames) > countOfGames):\n",
    "        clientMostGames = clients[key]\n",
    "        countOfGames = len(listOfGames)\n",
    "\n",
    "print(clientMostGames)"
   ]
  },
  {
   "cell_type": "markdown",
   "metadata": {},
   "source": [
    "**7.2** What is the name of the most popular videogame?"
   ]
  },
  {
   "cell_type": "code",
   "execution_count": 15,
   "metadata": {},
   "outputs": [
    {
     "name": "stdout",
     "output_type": "stream",
     "text": [
      "watchdogs ii\n"
     ]
    }
   ],
   "source": [
    "# creating a list which holds all purchases (games) made by the players. therefore looping through all purchases\n",
    "listOfBoughtGames = []\n",
    "for purchase in purchases.values():\n",
    "    listOfBoughtGames.append(purchase.lower())\n",
    "\n",
    "# creating a dictionary to map the game name with the amount of purchases.\n",
    "gameCounts = {}\n",
    "for purchase in listOfBoughtGames:\n",
    "    for game in purchase.split(','):\n",
    "        gameName = game.lower().strip()\n",
    "        if gameName in gameCounts:\n",
    "            gameCounts[gameName] += 1\n",
    "        else:\n",
    "            gameCounts[gameName] = 1\n",
    "\n",
    "# calculating the most bought game with the max function.\n",
    "mostBoughtGame = max(gameCounts, key=gameCounts.get)\n",
    "\n",
    "print(mostBoughtGame)"
   ]
  },
  {
   "cell_type": "markdown",
   "metadata": {},
   "source": [
    "# <span style=\"color:brown\"> Part 2 -  Data loading and analysis  </span>\n",
    "\n",
    "## Exercise I - Alice what do you have to say?\n",
    "\n",
    "**8**: Load the Alice text file into a variable called Alice. <br>\n",
    "\n",
    "*Note: Use a relative filepath in relation to the location of your notebook.*"
   ]
  },
  {
   "cell_type": "code",
   "execution_count": 16,
   "metadata": {},
   "outputs": [
    {
     "name": "stdout",
     "output_type": "stream",
     "text": [
      "Alice was beginning to get very tired of sitting by her sister on the bank, and of having nothing to do: once or twice she had peeped into the book her sister was reading, but it had no pictures or conversations in it, <<and what is the use of a book>>. thought Alice <<without pictures or conversation?>>.\n"
     ]
    }
   ],
   "source": [
    "file_path = 'alice.txt'\n",
    "\n",
    "Alice = ''\n",
    "\n",
    "with open(file_path, 'r', encoding='utf-8') as file:\n",
    "    Alice = file.read()\n",
    "    \n",
    "print(Alice)"
   ]
  },
  {
   "cell_type": "markdown",
   "metadata": {},
   "source": [
    "**9**: Create a list in which each element is a word from the file *Alice*. Store that list in a variable called *wAlice*. <br>\n",
    "\n",
    "*Note: You will need to do some text parsing here. In particular to split the sentences into words. It is also a good practice to normalize words so that words \"Hello\" and \"hello\" become identical, by making all letters lower case. <br>*\n",
    "\n",
    "*Tip: check the following links for a discussion on regular expressions. Also consult the methods available for string manipulation.*\n",
    "\n",
    "https://docs.python.org/3/library/re.html\n",
    "\n",
    "https://stackoverflow.com/questions/1276764/stripping-everything-but-alphanumeric-chars-from-a-string-in-python"
   ]
  },
  {
   "cell_type": "code",
   "execution_count": 17,
   "metadata": {},
   "outputs": [
    {
     "name": "stdout",
     "output_type": "stream",
     "text": [
      "['Alice', 'was', 'beginning', 'to', 'get', 'very', 'tired', 'of', 'sitting', 'by', 'her', 'sister', 'on', 'the', 'bank', 'and', 'of', 'having', 'nothing', 'to', 'do', 'once', 'or', 'twice', 'she', 'had', 'peeped', 'into', 'the', 'book', 'her', 'sister', 'was', 'reading', 'but', 'it', 'had', 'no', 'pictures', 'or', 'conversations', 'in', 'it', 'and', 'what', 'is', 'the', 'use', 'of', 'a', 'book', 'thought', 'Alice', 'without', 'pictures', 'or', 'conversation']\n"
     ]
    }
   ],
   "source": [
    "import re\n",
    "\n",
    "listOfTextElements = Alice.split(\" \")\n",
    "wAlice = []\n",
    "\n",
    "for textElement in listOfTextElements:\n",
    "    wAlice.append(re.sub(r'\\W+', '', textElement))\n",
    "    \n",
    "print(wAlice)"
   ]
  },
  {
   "cell_type": "markdown",
   "metadata": {},
   "source": [
    "##### Using the list *wAlice* answer the following questions:<br>\n",
    "**10**: How many words are in the file Alice.txt? <br>"
   ]
  },
  {
   "cell_type": "code",
   "execution_count": 18,
   "metadata": {},
   "outputs": [
    {
     "name": "stdout",
     "output_type": "stream",
     "text": [
      "57\n"
     ]
    }
   ],
   "source": [
    "print(len(wAlice))"
   ]
  },
  {
   "cell_type": "markdown",
   "metadata": {},
   "source": [
    "**11**: What is the longest and smallest word in the text file?\n",
    "\n",
    "*Note: Length in this case is measured in terms of the number of characters.*"
   ]
  },
  {
   "cell_type": "code",
   "execution_count": 19,
   "metadata": {},
   "outputs": [
    {
     "name": "stdout",
     "output_type": "stream",
     "text": [
      "The smallest word is:\ta\n",
      "The longest word is:\tconversations\n"
     ]
    }
   ],
   "source": [
    "smallest_word = min(wAlice,key=len)\n",
    "longest_word = max(wAlice,key=len)\n",
    "print(\"The smallest word is:\\t\" +smallest_word+\"\\nThe longest word is:\\t\"+longest_word)"
   ]
  },
  {
   "cell_type": "markdown",
   "metadata": {},
   "source": [
    "**12**: Delete all the repeated words from *wAlice*. "
   ]
  },
  {
   "cell_type": "code",
   "execution_count": 20,
   "metadata": {},
   "outputs": [
    {
     "name": "stdout",
     "output_type": "stream",
     "text": [
      "['what', 'by', 'into', 'reading', 'having', 'conversation', 'sister', 'twice', 'it', 'very', 'pictures', 'conversations', 'to', 'tired', 'once', 'in', 'on', 'no', 'peeped', 'book', 'bank', 'nothing', 'had', 'is', 'use', 'Alice', 'beginning', 'was', 'a', 'and', 'sitting', 'or', 'but', 'of', 'without', 'get', 'do', 'thought', 'she', 'the', 'her']\n"
     ]
    }
   ],
   "source": [
    "setAlice = set(wAlice)\n",
    "\n",
    "# wasn't sure about the return format. Therefore using the initial format list instead of set.\n",
    "print(list(setAlice))"
   ]
  },
  {
   "cell_type": "markdown",
   "metadata": {},
   "source": [
    "**12.1**:How many different words does the text contain?"
   ]
  },
  {
   "cell_type": "code",
   "execution_count": 21,
   "metadata": {},
   "outputs": [
    {
     "name": "stdout",
     "output_type": "stream",
     "text": [
      "41\n"
     ]
    }
   ],
   "source": [
    "print(len(setAlice))"
   ]
  },
  {
   "cell_type": "markdown",
   "metadata": {},
   "source": [
    "## Exercise II - of Countries I Love\n",
    "\n",
    "Consider the list countries in the cell below. <br>\n",
    "It consists of a list of the 3-digit ISO codes of a set of countries of interest."
   ]
  },
  {
   "cell_type": "code",
   "execution_count": 22,
   "metadata": {},
   "outputs": [],
   "source": [
    "countries = [\n",
    "\n",
    "('PRT','Portugal','Europe'),\n",
    "('ISL','Israel','Asia'),\n",
    "('COL','Colombia','South America'),\n",
    "('NEV','Nevada','North America'),\n",
    "('JPN','Japan','Asia'),\n",
    "('RUS','Russia','well... which part?'),\n",
    "('DEN','Denmark','Europe'),\n",
    "('NOR','Norway','Europe')\n",
    "    \n",
    "]"
   ]
  },
  {
   "cell_type": "markdown",
   "metadata": {},
   "source": [
    "**Now consider the file *cdata.csv* that you should download.** <br>\n",
    "\n",
    "The file contains several information about countries, and is organized as follows:\n",
    "1. Column 1 is the 3-digit **ISO Code**\n",
    "2. Column 2 is the **Full Name** of the country\n",
    "3. Column 3 is the **Continent** of the country\n",
    "4. Column 4 is the **Population Size** in 2010\n",
    "5. Column 5 is the **GDP per capita** in 2010"
   ]
  },
  {
   "cell_type": "markdown",
   "metadata": {},
   "source": [
    "**13**: Using the Library CSV from Python STL, load the file *cdata.csv* into an object called *raw*. "
   ]
  },
  {
   "cell_type": "code",
   "execution_count": 23,
   "metadata": {},
   "outputs": [],
   "source": [
    "import csv\n",
    "\n",
    "filePath = 'cdata.csv'\n",
    "\n",
    "raw = []\n",
    "\n",
    "with open(filePath, 'r', newline='') as file:\n",
    "    csvReader = csv.reader(file)\n",
    "    for row in csvReader:\n",
    "        raw.append(row)\n",
    "\n",
    "# removing the first row of the raw data as it is only containing the header and not actual data. Therefore it's easier to work with the raw array.\n",
    "header = raw.pop(0)"
   ]
  },
  {
   "cell_type": "markdown",
   "metadata": {},
   "source": [
    "**13.1**: Create a dictionary called *cData* in which the key corresponds to the 3-digit ISO Code and the value is a tuple with the information contained in the 2nd to the 5th of column of the cdata file."
   ]
  },
  {
   "cell_type": "code",
   "execution_count": 24,
   "metadata": {},
   "outputs": [],
   "source": [
    "# creating cData dicionary\n",
    "cData = {}\n",
    "\n",
    "# looping through all rows of the object raw. adding each row to the dictionary: Keys are the iso codes, values are tuples of the data columns.\n",
    "for row in raw:\n",
    "    data = []\n",
    "    for counter in range(1,len(row)):\n",
    "        data.append(row[counter])\n",
    "    cData[row[0]] = tuple(data)"
   ]
  },
  {
   "cell_type": "markdown",
   "metadata": {},
   "source": [
    "**14**: Using *cData*, identify what is the most common Continent among the nations in the list *countries*."
   ]
  },
  {
   "cell_type": "code",
   "execution_count": 25,
   "metadata": {},
   "outputs": [
    {
     "name": "stdout",
     "output_type": "stream",
     "text": [
      "The most common continent is asia with 3 countries.\n"
     ]
    }
   ],
   "source": [
    "countContinentAppearances = {}\n",
    "continents = set()\n",
    "mapCountryIso = {}\n",
    "\n",
    "# creating a copy of the countries list that is containing list elements instead of tuples. So its possible to change the values.\n",
    "countriesList = [list(country) for country in countries]\n",
    "\n",
    "# since different formats and labels are used in the country list and in the cData, the iso-codes and continent label in the country list are corrected, since the cData seem to be more comprehensive and complete.\n",
    "\n",
    "# creating a dictionary which has country names as keys for easier data access. Iso code and continent are provided in a list for each country. This dicionary holds the needed data from cData.\n",
    "for entry in cData:\n",
    "    mapCountryIso[cData[entry][0].replace(\" \", \"\").lower()] = [entry, cData[entry][1].replace(\" \", \"\").lower()]\n",
    "\n",
    "\n",
    "# looping through all countries mentioned in the original/value-duplicated countries list. If iso code or continent is specified different in cData, the corresponding value will be overwritten in the countriesList by the value provided from cData\n",
    "for countryCount in range(0, len(countriesList)):\n",
    "    if countriesList[countryCount][1].strip().lower() in mapCountryIso:\n",
    "        countryName = countriesList[countryCount][1].strip().lower()\n",
    "        countriesList[countryCount][0] = mapCountryIso[countryName][0]\n",
    "        countriesList[countryCount][1] = countryName\n",
    "        countriesList[countryCount][2] = mapCountryIso[countryName][1]\n",
    "    continents.add(countriesList[countryCount][2].replace(\" \", \"\").lower())\n",
    "\n",
    "# filling the dictionary countContinentAppearances with the requested continent names and setting the initial counter to zero.\n",
    "for continent in continents:\n",
    "    countContinentAppearances[continent] = 0\n",
    "    \n",
    "# looping through all elements inside cData and increasing the continent count by one if the related continent is in scope.\n",
    "for country in countriesList:\n",
    "    continentName = country[2].replace(\" \", \"\").lower()\n",
    "    countContinentAppearances[continentName] += 1\n",
    "\n",
    "# calculating the most common continent and storing its name and time of occurance in mostCommonContintent.\n",
    "mostCommonContintent = [\"\", 0]\n",
    "for continent in countContinentAppearances:\n",
    "    if countContinentAppearances[continent] > mostCommonContintent[1]:\n",
    "        mostCommonContintent[0] = continent\n",
    "        mostCommonContintent[1] = countContinentAppearances[continent]\n",
    "\n",
    "# return most common continent\n",
    "print(\"The most common continent is\", mostCommonContintent[0], \"with\", mostCommonContintent[1], \"countries.\")"
   ]
  },
  {
   "cell_type": "markdown",
   "metadata": {},
   "source": [
    "**15**: Using *cData*, identify what is the the most populated nation in the list *countries*."
   ]
  },
  {
   "cell_type": "code",
   "execution_count": 26,
   "metadata": {},
   "outputs": [
    {
     "name": "stdout",
     "output_type": "stream",
     "text": [
      "Country with maximum Population:\t Russia\n"
     ]
    }
   ],
   "source": [
    "mapCountryPopulation = {}\n",
    "\n",
    "# looping through the countriesList and adding the iso code and a placeholder for the population for each country to the mapCountryPopulation.\n",
    "for country in countriesList:\n",
    "    mapCountryPopulation[country[0].lower()] = 0\n",
    "    \n",
    "# looping through all countries provided in cData to find the population of the wanted countries. Storing the found population of the country to mapCountryPopulation.\n",
    "for isoCode in cData:\n",
    "    if isoCode in mapCountryPopulation.keys():\n",
    "        mapCountryPopulation[isoCode] = cData[isoCode][2]\n",
    "\n",
    "# find the ISO code of the country with the maximum population.\n",
    "maxPopulationIso = max(mapCountryPopulation, key=lambda counter: float(mapCountryPopulation[counter]))\n",
    "\n",
    "# find the corresponding country name using the ISO code.\n",
    "countryWithMaxPopulation = cData[maxPopulationIso][0]\n",
    "print(\"Country with maximum Population:\\t\", countryWithMaxPopulation)"
   ]
  },
  {
   "cell_type": "markdown",
   "metadata": {},
   "source": [
    "**16**: Compare the average GDP per capita of the nations in the list *countries* with the average GDP of the countries in cdata file. What can you conclude?"
   ]
  },
  {
   "cell_type": "code",
   "execution_count": 27,
   "metadata": {},
   "outputs": [
    {
     "name": "stdout",
     "output_type": "stream",
     "text": [
      "18014.65454394603\n",
      "38242.63072863724\n",
      "2.1228622861096706\n"
     ]
    }
   ],
   "source": [
    "# as there is no data about the gdp of columbia and nevada, both countries will not be considered for the calculation of the average. \n",
    "# as the label (first row of cdata.csv)in the cdata file is not correct and column 5 is providing the gpd per capita already, its only needed to calculate and compare the average gdp per capita of countries and cdata.\n",
    "gdpPerCapitaCountries = []\n",
    "gdpPerCapitaCdata = []\n",
    "listGdp = []\n",
    "\n",
    "# looping through the cData nations and adding the gdp per capita to the list gdpPerCapitaCountries, if the country is mentioned in \"countries\".\n",
    "# implementing a loop through cData instead of mapCountryPopulation.keys()/countriesList to automatically exclude countries with no entries in cdata. Following this logic, nevada and columbia are implicitly not added to gdpPerCapitaCountries and are also not considered when calculating the size of this list.\n",
    "for isoCode in cData:\n",
    "    if isoCode in mapCountryPopulation.keys():\n",
    "        gdpPerCapitaCountries.append(float(cData[isoCode][3]))\n",
    "        listGdp.append([float(cData[isoCode][3]), cData[isoCode][0]])\n",
    "\n",
    "# looping through the cData nations and adding the gdp per capita to the list gdpPerCapitaCdata\n",
    "for isoCode in cData:\n",
    "    gdpPerCapitaCdata.append(float(cData[isoCode][3]))\n",
    "    \n",
    "# calculating average gdp per capita\n",
    "averageGdpPerCapitaCdata = sum(gdpPerCapitaCdata)/len(gdpPerCapitaCdata)\n",
    "averageGdpPerCapitaCountries = sum(gdpPerCapitaCountries)/len(gdpPerCapitaCountries)\n",
    "\n",
    "# print average gdp per capita for cdata and countries\n",
    "print(averageGdpPerCapitaCdata)\n",
    "print(averageGdpPerCapitaCountries)\n",
    "\n",
    "# calculate proportion of average gdp per capita of countries to average gdp per capita of cdata\n",
    "proportionCountriesCdata = averageGdpPerCapitaCountries/averageGdpPerCapitaCdata\n",
    "print(proportionCountriesCdata)\n",
    "\n",
    "# Interpretation: The gdp per capita is on average twice as high in the countries specified in the countries list compared to the average gdp per capita of all countries listet in cData."
   ]
  },
  {
   "cell_type": "markdown",
   "metadata": {},
   "source": [
    "# <span style=\"color:brown\"> Part 3 - Functions hurt nobody </span>\n",
    "\n",
    "## Exercise I - I hate math\n",
    "\n",
    "##### Consider the following equation:\n",
    "\n",
    "\\begin{equation}\n",
    "    y = 6x^2 + 3x + 2\n",
    "\\end{equation}\n",
    "\n",
    "**17**: Write a function called *f* that takes one argument, x, and returns y according to the equation above. "
   ]
  },
  {
   "cell_type": "code",
   "execution_count": 28,
   "metadata": {},
   "outputs": [],
   "source": [
    "def f(x):\n",
    "    y = 6*x**2 + 3*x + 2\n",
    "    return y"
   ]
  },
  {
   "cell_type": "markdown",
   "metadata": {},
   "source": [
    "**17.1**: Call the function for x = 2 and print the answer."
   ]
  },
  {
   "cell_type": "code",
   "execution_count": 29,
   "metadata": {},
   "outputs": [
    {
     "name": "stdout",
     "output_type": "stream",
     "text": [
      "32\n"
     ]
    }
   ],
   "source": [
    "print(f(2))"
   ]
  },
  {
   "cell_type": "markdown",
   "metadata": {},
   "source": [
    "##### Consider the following sequence of numbers:\n",
    "\n",
    "\\begin{equation}\n",
    "    x_0 = 0; ~~~ ~~~ ~~~ ~~ ~~~ ~~~ ~~~ ~~~ ~~~ ~~~ ~~~ ~~ ~~~ ~~~ ~~~ ~~ ~~~ ~~~ ~~~ ~~ ~ ~~~ ~~~ ~~~ ~~ ~~~ ~~~ ~~~ ~~ ~~~ ~~~ ~~~ ~~ ~~~ ~~~ ~~~ ~~ \\\\\n",
    "    x_{n} = x_{n-1} - n; ~~~ \\textit{ if} ~~~ x_{n-1}-n > 0 ~~~ \\textit{ and is not already in the sequence}\\\\\n",
    "    x_{n} = x_{n-1} + n; ~~~ \\textit{ otherwise} ~~~ ~~~ ~~~ ~~~ ~~ ~~~ ~~~ ~~~ ~~~ ~~~ ~ ~~~ ~~~ ~~~ ~~~ ~~~ ~~~ ~ ~~~ ~~~ ~~~~ ~~~ ~~~ ~~~ ~ \\\\\n",
    "\\end{equation}\n",
    "\n",
    "**17.2**: Write a function that returns the nth digit of the above defined sequence. <br>\n",
    "\n",
    "*Note: the above sequence is also known as the Recamán's sequence, and it was invnted by Bernardo Recamán Santos (Bogotá, Colombia)*"
   ]
  },
  {
   "cell_type": "code",
   "execution_count": 30,
   "metadata": {},
   "outputs": [],
   "source": [
    "def recamanSequence(n):\n",
    "    sequence = [0]\n",
    "    for x in range(1, n):\n",
    "        checkValue = sequence[-1] - x\n",
    "        if checkValue > 0 and checkValue not in sequence:\n",
    "            nextItem = checkValue\n",
    "        else:\n",
    "            nextItem = sequence[-1] + x\n",
    "        sequence.append(nextItem)\n",
    "    return sequence[n-1]"
   ]
  },
  {
   "cell_type": "markdown",
   "metadata": {},
   "source": [
    "**17.3** Write a function named isPrime that takes an integer as input and outputs True if the number is prime and False if the number if not prime."
   ]
  },
  {
   "cell_type": "code",
   "execution_count": 31,
   "metadata": {},
   "outputs": [],
   "source": [
    "def isPrime(number):\n",
    "    # check if value is equal or less than 1. If so - according to the definition - it is not a prime number.\n",
    "    if number <= 1:\n",
    "        return False\n",
    "    \n",
    "    # checking if the number is equal to 2. Returning true if so.\n",
    "    elif number == 2:\n",
    "        return True\n",
    "    \n",
    "    # checking if the number is even. Returning false if so.\n",
    "    elif number % 2 == 0:\n",
    "        return False\n",
    "    \n",
    "    # looping through all odd numbers starting with number 3 as numbers below 3 are already checked. looping until the square root of the number, because its the highest possible factor two return the number as a product. Adding plus 1 to the square root as the number might be in the interval to the next higher power of two.\n",
    "    for i in range(3, int(number**0.5) + 1, 2):\n",
    "        if number % i == 0:\n",
    "            return False\n",
    "    \n",
    "    return True"
   ]
  },
  {
   "cell_type": "markdown",
   "metadata": {},
   "source": [
    "**17.4** Test your function against some examples to show that it works as expected."
   ]
  },
  {
   "cell_type": "code",
   "execution_count": 32,
   "metadata": {},
   "outputs": [
    {
     "name": "stdout",
     "output_type": "stream",
     "text": [
      "1:\tFalse\n",
      "2:\tTrue\n",
      "3:\tTrue\n",
      "4:\tFalse\n",
      "5:\tTrue\n",
      "6:\tFalse\n",
      "7:\tTrue\n",
      "8:\tFalse\n",
      "9:\tFalse\n",
      "10:\tFalse\n",
      "11:\tTrue\n",
      "12:\tFalse\n",
      "13:\tTrue\n",
      "14:\tFalse\n",
      "15:\tFalse\n",
      "16:\tFalse\n",
      "17:\tTrue\n",
      "18:\tFalse\n",
      "19:\tTrue\n",
      "20:\tFalse\n",
      "21:\tFalse\n",
      "22:\tFalse\n",
      "23:\tTrue\n",
      "24:\tFalse\n"
     ]
    }
   ],
   "source": [
    "for i in range(1, 25):\n",
    "    print(str(i) + \":\\t\" + str(isPrime(i)))"
   ]
  },
  {
   "cell_type": "markdown",
   "metadata": {},
   "source": [
    "## Exercise II - Monty Hall Problem\n"
   ]
  },
  {
   "cell_type": "markdown",
   "metadata": {},
   "source": [
    "**18**: The Monty Hall Problem is a probability puzzle loosely based on the American television game show \"Let's Make a Deal\" and named after its original host, Monty Hall. The puzzle can be stated as follows\n",
    "\n",
    "> Suppose you're on a game show, and you're given the choice of three doors: Behind one door is a car; behind the others, goats. You pick a door, say No. 1, and the host, who knows what's behind the doors, opens another door, say No. 3, which has a goat. He then says to you, \"Do you want to pick door No. 2?\" Is it to your advantage to switch your choice? <br>\n",
    "+info: https://en.wikipedia.org/wiki/Monty_Hall_problem\n",
    "\n",
    "While intuitively your guess might be that the chances of winning the car is 1/3 independently of the choice to switch doors or not. Howewver, the odds of winning if you switch doors are 2/3 and greater than if you decide not to switch. While there are theoretical solutions to this problem that allow us to estimate the correct odds of winning in each scenario -- switching or not doors -- an alternative way to proof such outcome is through computer simulations. That is the goal of this exercise, to write the necessary components to simulate the Monty Hall problem and validate the theoretical results through simulations.\n",
    "\n",
    "In this exercise, start by implementing a function that simulates one instance of the Monty Hall problem. \n",
    "In that sense, write a function called MontyHall that accepts **one argument**:\n",
    "- A boolean (True/False, or 1/0) that specifies if the player switches doors or not (after the host has opened his door, which contains a goat).\n",
    "The function should return True if the player wins the car or False if not.\n",
    "\n",
    "Naturally, for the function to reproduce the contest it needs to consider and perform some actions, such as:\n",
    "- Set up the game, that is, create the necessary variables to store the information about three doors and what they have behind, as well as an indicator to track the choice of the player.\n",
    "- Given the initial choice of the player, simulate the opening of one of the two remaining doors that contains a goat.\n",
    "- Given the last two doors left, simulate if the player wants to switch or not his/her choice given their strategy (defined by the input boolean argument of the function).\n",
    "- Output the result, if the contestant correctly guesses which door hides the car or if not.\n",
    "\n",
    "The function MontyHall should simulate one instance of the contest given the choice of the player (to switch or not).\n",
    "\n",
    "**The goal is to understand, statistically, which action leads to the highest probability of winning.** <br>\n",
    "*Note: You should use the library random to solve this exercise.*"
   ]
  },
  {
   "cell_type": "code",
   "execution_count": 33,
   "metadata": {},
   "outputs": [
    {
     "name": "stdout",
     "output_type": "stream",
     "text": [
      "False\n"
     ]
    }
   ],
   "source": [
    "import random\n",
    "\n",
    "def MontyHall(switchDecision):\n",
    "    # defining the options behind the doors\n",
    "    doors = [\"goat\", \"goat\", \"car\"]\n",
    "    \n",
    "    # randomly select index of one door that the player is choosing.\n",
    "    playersChoice = random.randrange(0,3)\n",
    "    \n",
    "    # storing remaining doors that are not opened.\n",
    "    remainingDoors = []\n",
    "    \n",
    "    # looping through all doors and add the ones that are not selected by the player to the remaningDoors list\n",
    "    for counter in range(0, len(doors)):\n",
    "        if counter != playersChoice:\n",
    "            remainingDoors.append(counter)\n",
    "    \n",
    "    # checking if first door of the remaining doors is covering a goat. If so this door will be open and therefore the other door (remainingDoors[1]) will be the closedDoor. Else the other door will be the closed one.\n",
    "    if doors[remainingDoors[0]] == \"goat\":\n",
    "        closedDoor = remainingDoors[1]\n",
    "    else:\n",
    "        closedDoor = remainingDoors[0]\n",
    "    \n",
    "    # if player wants to switch his decision, the closedDoor is selected now by the player.\n",
    "    if switchDecision:\n",
    "        playersChoice = closedDoor\n",
    "    \n",
    "    # return if the player's choice is equally to the value \"car\"\n",
    "    return doors[playersChoice] == \"car\"\n",
    "\n",
    "print(MontyHall(True))\n"
   ]
  },
  {
   "cell_type": "markdown",
   "metadata": {},
   "source": [
    "**18.1** Now that you have a function that simulates an instance of the Monty Hall problem, implement an experiment where you repeat many times (thousands of times) for each of the two possible scenarios: player switching the door, and player not switcing the door. Keep track of the results and estimate the frequencies of wins for each scenario and discuss if the results are inline with the theoretical odds."
   ]
  },
  {
   "cell_type": "code",
   "execution_count": 34,
   "metadata": {},
   "outputs": [
    {
     "name": "stdout",
     "output_type": "stream",
     "text": [
      "Proportion of switching the decision:\t0.6658728329364164\n",
      "Proportion of not switching the decision:\t0.33335266667633334\n"
     ]
    }
   ],
   "source": [
    "trackingNoSwitch = []\n",
    "trackingSwitch = []\n",
    "\n",
    "# looping to simulate the monty hall problem many times for switching and not switching decision and storing the result of the simulation in the lists trackingNoSwitch and trackingSwitch.\n",
    "for i in range(1, 2000000):\n",
    "    trackingNoSwitch.append(MontyHall(False))\n",
    "    trackingSwitch.append(MontyHall(True))\n",
    "    \n",
    "# counting all success trials in each list (trackingNoSwitch and trackingSwitch) and store it in a value.\n",
    "countSwitchTrue = len(list(filter(lambda x: x == True, trackingSwitch)))\n",
    "countNoSwitchTrue = len(list(filter(lambda x: x == True, trackingNoSwitch)))\n",
    "\n",
    "# calculating the proportion of successes in all trials.\n",
    "proportionSwitchTotal = countSwitchTrue / len(trackingSwitch)\n",
    "proportionNoSwitchTotal = countNoSwitchTrue / len(trackingNoSwitch)\n",
    "\n",
    "print(\"Proportion of switching the decision:\\t\" + str(proportionSwitchTotal))\n",
    "print(\"Proportion of not switching the decision:\\t\" + str(proportionNoSwitchTotal))\n",
    "\n",
    "# The simulation shows what is already described as a theoretical rule above: when switching the probability will be 2/3 and higher than without switching - it has a probability of 1/3. Therefore switching is the much better choice with having a twice as high probability than not switching.\n"
   ]
  },
  {
   "cell_type": "markdown",
   "metadata": {},
   "source": [
    "## Exercise III\n",
    "\n",
    "**19**: Consider the list *A*, declared below. <br>\n",
    "Use the function map() to change the values of A by adding 1 to each value if it is even and subtracting 1 to it otherwise."
   ]
  },
  {
   "cell_type": "code",
   "execution_count": 35,
   "metadata": {},
   "outputs": [],
   "source": [
    "A = [460,3347,3044,490,699,1258,1804,973,2223,3416,2879,1058,2915,2422,351,1543,1020,208,643,795,3337,2585,471,2623,1077]"
   ]
  },
  {
   "cell_type": "code",
   "execution_count": 36,
   "metadata": {},
   "outputs": [
    {
     "data": {
      "text/plain": [
       "[461,\n",
       " 3346,\n",
       " 3045,\n",
       " 491,\n",
       " 698,\n",
       " 1259,\n",
       " 1805,\n",
       " 972,\n",
       " 2222,\n",
       " 3417,\n",
       " 2878,\n",
       " 1059,\n",
       " 2914,\n",
       " 2423,\n",
       " 350,\n",
       " 1542,\n",
       " 1021,\n",
       " 209,\n",
       " 642,\n",
       " 794,\n",
       " 3336,\n",
       " 2584,\n",
       " 470,\n",
       " 2622,\n",
       " 1076]"
      ]
     },
     "execution_count": 36,
     "metadata": {},
     "output_type": "execute_result"
    }
   ],
   "source": [
    "list(map(lambda X: X+1 if X%2==0 else X-1,A))"
   ]
  },
  {
   "cell_type": "markdown",
   "metadata": {},
   "source": [
    "**20**: Create a list B with the same size of A, where each element is True if the associated value in list A is greater than 700, else is False."
   ]
  },
  {
   "cell_type": "code",
   "execution_count": 37,
   "metadata": {},
   "outputs": [
    {
     "name": "stdout",
     "output_type": "stream",
     "text": [
      "[False, True, True, False, False, True, True, True, True, True, True, True, True, True, False, True, True, False, False, True, True, True, False, True, True]\n"
     ]
    }
   ],
   "source": [
    "B = list(map(lambda x : x > 700, A))\n",
    "print(B)"
   ]
  },
  {
   "cell_type": "markdown",
   "metadata": {},
   "source": [
    "**21**: Create a list L that contains the Logarithm of base 10 of each value in A. <br>\n",
    "\n",
    "*Note: You should use the module math to solve this exercise.*"
   ]
  },
  {
   "cell_type": "code",
   "execution_count": 38,
   "metadata": {},
   "outputs": [],
   "source": [
    "import math\n",
    "\n",
    "L = [math.log10(x) for x in A]"
   ]
  },
  {
   "cell_type": "markdown",
   "metadata": {},
   "source": [
    "**22**: How many numbers in A are greater than 1000? <br>\n",
    "\n",
    "*Note: You should use the function filter().*"
   ]
  },
  {
   "cell_type": "code",
   "execution_count": 39,
   "metadata": {},
   "outputs": [
    {
     "name": "stdout",
     "output_type": "stream",
     "text": [
      "16\n"
     ]
    }
   ],
   "source": [
    "greaterThanList = list(filter(lambda x : x > 1000, A))\n",
    "print(len(greaterThanList))"
   ]
  },
  {
   "cell_type": "markdown",
   "metadata": {},
   "source": [
    "**23** Use the function isPrime, that you declared in 17.3, to identify which numbers from A are prime. Note that depending on your implementation of isPrime this task can take more or less time. Use filter to achieve this task."
   ]
  },
  {
   "cell_type": "code",
   "execution_count": 40,
   "metadata": {},
   "outputs": [
    {
     "name": "stdout",
     "output_type": "stream",
     "text": [
      "[3347, 2879, 1543, 643]\n"
     ]
    }
   ],
   "source": [
    "primeNumbers = list(filter(isPrime, A))\n",
    "print(primeNumbers)"
   ]
  },
  {
   "cell_type": "markdown",
   "metadata": {},
   "source": [
    "### Congratulations, it is done!"
   ]
  },
  {
   "cell_type": "code",
   "execution_count": null,
   "metadata": {},
   "outputs": [],
   "source": []
  }
 ],
 "metadata": {
  "kernelspec": {
   "display_name": "Python 3 (ipykernel)",
   "language": "python",
   "name": "python3"
  },
  "language_info": {
   "codemirror_mode": {
    "name": "ipython",
    "version": 3
   },
   "file_extension": ".py",
   "mimetype": "text/x-python",
   "name": "python",
   "nbconvert_exporter": "python",
   "pygments_lexer": "ipython3",
   "version": "3.10.12"
  }
 },
 "nbformat": 4,
 "nbformat_minor": 4
}
